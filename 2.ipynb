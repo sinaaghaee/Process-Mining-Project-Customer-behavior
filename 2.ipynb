{
 "cells": [
  {
   "cell_type": "markdown",
   "id": "d9d6a5de",
   "metadata": {},
   "source": [
    "# HW3-ProcessMining-TAClass"
   ]
  },
  {
   "cell_type": "markdown",
   "id": "bae8f00d",
   "metadata": {},
   "source": [
    "## Team members:\n",
    "\n",
    "* Sina Aghaee\n",
    "* Farzaneh Mahmoodi\n",
    "* Sahar Varchandi"
   ]
  },
  {
   "cell_type": "markdown",
   "id": "288964ef",
   "metadata": {},
   "source": [
    "## Dataset\n",
    "\n",
    "Our project contains **five** different related datasets, which can be downloaded from the following links:\n",
    "\n",
    "* [BPI Challenge 2016: Clicks NOT Logged In](https://data.4tu.nl/articles/dataset/BPI_Challenge_2016_Clicks_NOT_Logged_In/12708596/1)\n",
    "\n",
    "* [BPI Challenge 2016: Clicks Logged In](https://data.4tu.nl/articles/dataset/BPI_Challenge_2016_Clicks_Logged_In/12674816/1)\n",
    "\n",
    "* [BPI Challenge 2016: Questions](https://data.4tu.nl/articles/dataset/BPI_Challenge_2016_Questions/12687320/1)\n",
    "\n",
    "* [BPI Challenge 2016: Werkmap Messages](https://data.4tu.nl/articles/dataset/BPI_Challenge_2016_Werkmap_Messages/12714569/1)\n",
    "\n",
    "* [BPI Challenge 2016: Complaints](https://data.4tu.nl/articles/dataset/BPI_Challenge_2016_Complaints/12717647/1)\n"
   ]
  },
  {
   "cell_type": "markdown",
   "id": "65b9f062",
   "metadata": {},
   "source": [
    "Importing Libraries:"
   ]
  },
  {
   "cell_type": "code",
   "execution_count": 209,
   "id": "bdfad0d9",
   "metadata": {},
   "outputs": [],
   "source": [
    "import seaborn as sns\n",
    "import pandas as pd\n",
    "import numpy as np\n",
    "import matplotlib.pyplot as plt\n",
    "from datetime import datetime\n",
    "import warnings\n",
    "warnings.filterwarnings('ignore')"
   ]
  },
  {
   "cell_type": "markdown",
   "id": "6dab3f0e",
   "metadata": {},
   "source": [
    "Reading Datasets:"
   ]
  },
  {
   "cell_type": "code",
   "execution_count": 3,
   "id": "35f72115",
   "metadata": {},
   "outputs": [],
   "source": [
    "clicks_logged_in = pd.read_csv('BPI2016_Clicks_Logged_In.csv', sep = ';', encoding = 'latin')\n",
    "phone_calls = pd.read_csv('BPI2016_Questions.csv', sep = ';', encoding = 'latin')\n",
    "workflow_messages = pd.read_csv('BPI2016_Werkmap_Messages.csv', sep = ';', encoding = 'latin')\n",
    "complaints = pd.read_csv('BPI2016_Complaints.csv', sep = ';', encoding = 'latin')"
   ]
  },
  {
   "cell_type": "code",
   "execution_count": 48,
   "id": "01285f3e",
   "metadata": {},
   "outputs": [
    {
     "data": {
      "text/html": [
       "<div>\n",
       "<style scoped>\n",
       "    .dataframe tbody tr th:only-of-type {\n",
       "        vertical-align: middle;\n",
       "    }\n",
       "\n",
       "    .dataframe tbody tr th {\n",
       "        vertical-align: top;\n",
       "    }\n",
       "\n",
       "    .dataframe thead th {\n",
       "        text-align: right;\n",
       "    }\n",
       "</style>\n",
       "<table border=\"1\" class=\"dataframe\">\n",
       "  <thead>\n",
       "    <tr style=\"text-align: right;\">\n",
       "      <th></th>\n",
       "      <th>CustomerID</th>\n",
       "      <th>AgeCategory</th>\n",
       "      <th>Gender</th>\n",
       "      <th>Office_U</th>\n",
       "      <th>Office_W</th>\n",
       "      <th>SessionID</th>\n",
       "      <th>IPID</th>\n",
       "      <th>TIMESTAMP</th>\n",
       "      <th>VHOST</th>\n",
       "      <th>URL_FILE</th>\n",
       "      <th>PAGE_NAME</th>\n",
       "      <th>REF_URL_category</th>\n",
       "      <th>page_load_error</th>\n",
       "      <th>page_action_detail</th>\n",
       "      <th>tip</th>\n",
       "      <th>service_detail</th>\n",
       "      <th>xps_info</th>\n",
       "      <th>page_action_detail_EN</th>\n",
       "      <th>service_detail_EN</th>\n",
       "      <th>tip_EN</th>\n",
       "    </tr>\n",
       "  </thead>\n",
       "  <tbody>\n",
       "    <tr>\n",
       "      <th>0</th>\n",
       "      <td>2025826</td>\n",
       "      <td>50-65</td>\n",
       "      <td>V</td>\n",
       "      <td>313</td>\n",
       "      <td>313</td>\n",
       "      <td>12956475</td>\n",
       "      <td>620841</td>\n",
       "      <td>2015-10-05 10:12:56.880000000</td>\n",
       "      <td>www.werk.nl</td>\n",
       "      <td>/werk_nl/werknemer/uitkering-aanvragen/uwv-die...</td>\n",
       "      <td>50plus</td>\n",
       "      <td>NaN</td>\n",
       "      <td>0</td>\n",
       "      <td>NaN</td>\n",
       "      <td>NaN</td>\n",
       "      <td>NaN</td>\n",
       "      <td>NaN</td>\n",
       "      <td>NaN</td>\n",
       "      <td>NaN</td>\n",
       "      <td>NaN</td>\n",
       "    </tr>\n",
       "    <tr>\n",
       "      <th>1</th>\n",
       "      <td>2025826</td>\n",
       "      <td>50-65</td>\n",
       "      <td>V</td>\n",
       "      <td>313</td>\n",
       "      <td>313</td>\n",
       "      <td>13243433</td>\n",
       "      <td>620841</td>\n",
       "      <td>2015-09-30 15:14:35.943000000</td>\n",
       "      <td>www.werk.nl</td>\n",
       "      <td>/werk_nl/werknemer/uitkering-aanvragen/uwv-die...</td>\n",
       "      <td>50plus</td>\n",
       "      <td>NaN</td>\n",
       "      <td>0</td>\n",
       "      <td>NaN</td>\n",
       "      <td>NaN</td>\n",
       "      <td>NaN</td>\n",
       "      <td>NaN</td>\n",
       "      <td>NaN</td>\n",
       "      <td>NaN</td>\n",
       "      <td>NaN</td>\n",
       "    </tr>\n",
       "  </tbody>\n",
       "</table>\n",
       "</div>"
      ],
      "text/plain": [
       "   CustomerID AgeCategory Gender  Office_U  Office_W  SessionID    IPID  \\\n",
       "0     2025826       50-65      V       313       313   12956475  620841   \n",
       "1     2025826       50-65      V       313       313   13243433  620841   \n",
       "\n",
       "                       TIMESTAMP        VHOST  \\\n",
       "0  2015-10-05 10:12:56.880000000  www.werk.nl   \n",
       "1  2015-09-30 15:14:35.943000000  www.werk.nl   \n",
       "\n",
       "                                            URL_FILE PAGE_NAME  \\\n",
       "0  /werk_nl/werknemer/uitkering-aanvragen/uwv-die...    50plus   \n",
       "1  /werk_nl/werknemer/uitkering-aanvragen/uwv-die...    50plus   \n",
       "\n",
       "  REF_URL_category  page_load_error page_action_detail  tip service_detail  \\\n",
       "0              NaN                0                NaN  NaN            NaN   \n",
       "1              NaN                0                NaN  NaN            NaN   \n",
       "\n",
       "  xps_info page_action_detail_EN service_detail_EN tip_EN  \n",
       "0      NaN                   NaN               NaN    NaN  \n",
       "1      NaN                   NaN               NaN    NaN  "
      ]
     },
     "execution_count": 48,
     "metadata": {},
     "output_type": "execute_result"
    }
   ],
   "source": [
    "clicks_logged_in.head(2)"
   ]
  },
  {
   "cell_type": "code",
   "execution_count": 106,
   "id": "422095d1",
   "metadata": {},
   "outputs": [
    {
     "data": {
      "text/plain": [
       "(7174934, 20)"
      ]
     },
     "execution_count": 106,
     "metadata": {},
     "output_type": "execute_result"
    }
   ],
   "source": [
    "clicks_logged_in.shape"
   ]
  },
  {
   "cell_type": "code",
   "execution_count": 49,
   "id": "fd1d7381",
   "metadata": {
    "scrolled": true
   },
   "outputs": [
    {
     "data": {
      "text/html": [
       "<div>\n",
       "<style scoped>\n",
       "    .dataframe tbody tr th:only-of-type {\n",
       "        vertical-align: middle;\n",
       "    }\n",
       "\n",
       "    .dataframe tbody tr th {\n",
       "        vertical-align: top;\n",
       "    }\n",
       "\n",
       "    .dataframe thead th {\n",
       "        text-align: right;\n",
       "    }\n",
       "</style>\n",
       "<table border=\"1\" class=\"dataframe\">\n",
       "  <thead>\n",
       "    <tr style=\"text-align: right;\">\n",
       "      <th></th>\n",
       "      <th>CustomerID</th>\n",
       "      <th>AgeCategory</th>\n",
       "      <th>Gender</th>\n",
       "      <th>Office_U</th>\n",
       "      <th>Office_W</th>\n",
       "      <th>ContactDate</th>\n",
       "      <th>ContactTimeStart</th>\n",
       "      <th>ContactTimeEnd</th>\n",
       "      <th>QuestionThemeID</th>\n",
       "      <th>QuestionSubthemeID</th>\n",
       "      <th>QuestionTopicID</th>\n",
       "      <th>QuestionTheme</th>\n",
       "      <th>QuestionSubtheme</th>\n",
       "      <th>QuestionTopic</th>\n",
       "      <th>QuestionTheme_EN</th>\n",
       "      <th>QuestionSubtheme_EN</th>\n",
       "      <th>QuestionTopic_EN</th>\n",
       "    </tr>\n",
       "  </thead>\n",
       "  <tbody>\n",
       "    <tr>\n",
       "      <th>0</th>\n",
       "      <td>1876596</td>\n",
       "      <td>18-29</td>\n",
       "      <td>M</td>\n",
       "      <td>257</td>\n",
       "      <td>261</td>\n",
       "      <td>2015-08-24</td>\n",
       "      <td>14:00:34.0000000</td>\n",
       "      <td>14:05:23.0000000</td>\n",
       "      <td>41</td>\n",
       "      <td>28861</td>\n",
       "      <td>28896</td>\n",
       "      <td>WN WW</td>\n",
       "      <td>Sollicitatie (WWZ 1-7-2015)</td>\n",
       "      <td>Sollicitatieplicht: Moet ik solliciteren als i...</td>\n",
       "      <td>WN WW</td>\n",
       "      <td>Application (WWZ 1 7 2015)</td>\n",
       "      <td>Job Duty: Should I apply if I go back to work?</td>\n",
       "    </tr>\n",
       "    <tr>\n",
       "      <th>1</th>\n",
       "      <td>722160</td>\n",
       "      <td>18-29</td>\n",
       "      <td>M</td>\n",
       "      <td>305</td>\n",
       "      <td>305</td>\n",
       "      <td>2015-08-27</td>\n",
       "      <td>11:50:08.0000000</td>\n",
       "      <td>11:55:34.0000000</td>\n",
       "      <td>41</td>\n",
       "      <td>15159</td>\n",
       "      <td>11672</td>\n",
       "      <td>WN WW</td>\n",
       "      <td>Betaling</td>\n",
       "      <td>Wanneer is/wordt mijn WW-uitkering overgemaakt?</td>\n",
       "      <td>WN WW</td>\n",
       "      <td>Payment</td>\n",
       "      <td>When is/are transferred my unemployment benefits?</td>\n",
       "    </tr>\n",
       "  </tbody>\n",
       "</table>\n",
       "</div>"
      ],
      "text/plain": [
       "   CustomerID AgeCategory Gender  Office_U  Office_W ContactDate  \\\n",
       "0     1876596       18-29      M       257       261  2015-08-24   \n",
       "1      722160       18-29      M       305       305  2015-08-27   \n",
       "\n",
       "   ContactTimeStart    ContactTimeEnd  QuestionThemeID  QuestionSubthemeID  \\\n",
       "0  14:00:34.0000000  14:05:23.0000000               41               28861   \n",
       "1  11:50:08.0000000  11:55:34.0000000               41               15159   \n",
       "\n",
       "   QuestionTopicID QuestionTheme             QuestionSubtheme  \\\n",
       "0            28896         WN WW  Sollicitatie (WWZ 1-7-2015)   \n",
       "1            11672         WN WW                     Betaling   \n",
       "\n",
       "                                       QuestionTopic QuestionTheme_EN  \\\n",
       "0  Sollicitatieplicht: Moet ik solliciteren als i...            WN WW   \n",
       "1    Wanneer is/wordt mijn WW-uitkering overgemaakt?            WN WW   \n",
       "\n",
       "          QuestionSubtheme_EN  \\\n",
       "0  Application (WWZ 1 7 2015)   \n",
       "1                     Payment   \n",
       "\n",
       "                                    QuestionTopic_EN  \n",
       "0     Job Duty: Should I apply if I go back to work?  \n",
       "1  When is/are transferred my unemployment benefits?  "
      ]
     },
     "execution_count": 49,
     "metadata": {},
     "output_type": "execute_result"
    }
   ],
   "source": [
    "phone_calls.head(2)"
   ]
  },
  {
   "cell_type": "code",
   "execution_count": 108,
   "id": "884ec6f1",
   "metadata": {},
   "outputs": [
    {
     "data": {
      "text/plain": [
       "(123403, 17)"
      ]
     },
     "execution_count": 108,
     "metadata": {},
     "output_type": "execute_result"
    }
   ],
   "source": [
    "phone_calls.shape"
   ]
  },
  {
   "cell_type": "code",
   "execution_count": 55,
   "id": "a8a5ef8f",
   "metadata": {
    "scrolled": true
   },
   "outputs": [
    {
     "data": {
      "text/html": [
       "<div>\n",
       "<style scoped>\n",
       "    .dataframe tbody tr th:only-of-type {\n",
       "        vertical-align: middle;\n",
       "    }\n",
       "\n",
       "    .dataframe tbody tr th {\n",
       "        vertical-align: top;\n",
       "    }\n",
       "\n",
       "    .dataframe thead th {\n",
       "        text-align: right;\n",
       "    }\n",
       "</style>\n",
       "<table border=\"1\" class=\"dataframe\">\n",
       "  <thead>\n",
       "    <tr style=\"text-align: right;\">\n",
       "      <th></th>\n",
       "      <th>CustomerID</th>\n",
       "      <th>AgeCategory</th>\n",
       "      <th>Gender</th>\n",
       "      <th>Office_U</th>\n",
       "      <th>Office_W</th>\n",
       "      <th>EventDateTime</th>\n",
       "      <th>EventType</th>\n",
       "      <th>HandlingChannelID</th>\n",
       "    </tr>\n",
       "  </thead>\n",
       "  <tbody>\n",
       "    <tr>\n",
       "      <th>0</th>\n",
       "      <td>2032131</td>\n",
       "      <td>18-29</td>\n",
       "      <td>M</td>\n",
       "      <td>271</td>\n",
       "      <td>271</td>\n",
       "      <td>2015-11-02 01:36:53.0000000</td>\n",
       "      <td>Werkmap message</td>\n",
       "      <td>1</td>\n",
       "    </tr>\n",
       "    <tr>\n",
       "      <th>1</th>\n",
       "      <td>2032131</td>\n",
       "      <td>18-29</td>\n",
       "      <td>M</td>\n",
       "      <td>271</td>\n",
       "      <td>271</td>\n",
       "      <td>2015-11-05 21:35:43.0000000</td>\n",
       "      <td>Werkmap message</td>\n",
       "      <td>1</td>\n",
       "    </tr>\n",
       "  </tbody>\n",
       "</table>\n",
       "</div>"
      ],
      "text/plain": [
       "   CustomerID AgeCategory Gender  Office_U  Office_W  \\\n",
       "0     2032131       18-29      M       271       271   \n",
       "1     2032131       18-29      M       271       271   \n",
       "\n",
       "                 EventDateTime        EventType  HandlingChannelID  \n",
       "0  2015-11-02 01:36:53.0000000  Werkmap message                  1  \n",
       "1  2015-11-05 21:35:43.0000000  Werkmap message                  1  "
      ]
     },
     "execution_count": 55,
     "metadata": {},
     "output_type": "execute_result"
    }
   ],
   "source": [
    "workflow_messages.head(2)"
   ]
  },
  {
   "cell_type": "code",
   "execution_count": 109,
   "id": "ad5a0adf",
   "metadata": {
    "scrolled": true
   },
   "outputs": [
    {
     "data": {
      "text/plain": [
       "(66058, 8)"
      ]
     },
     "execution_count": 109,
     "metadata": {},
     "output_type": "execute_result"
    }
   ],
   "source": [
    "workflow_messages.shape"
   ]
  },
  {
   "cell_type": "code",
   "execution_count": 281,
   "id": "0b03891c",
   "metadata": {},
   "outputs": [
    {
     "data": {
      "text/html": [
       "<div>\n",
       "<style scoped>\n",
       "    .dataframe tbody tr th:only-of-type {\n",
       "        vertical-align: middle;\n",
       "    }\n",
       "\n",
       "    .dataframe tbody tr th {\n",
       "        vertical-align: top;\n",
       "    }\n",
       "\n",
       "    .dataframe thead th {\n",
       "        text-align: right;\n",
       "    }\n",
       "</style>\n",
       "<table border=\"1\" class=\"dataframe\">\n",
       "  <thead>\n",
       "    <tr style=\"text-align: right;\">\n",
       "      <th></th>\n",
       "      <th>CustomerID</th>\n",
       "      <th>AgeCategory</th>\n",
       "      <th>Gender</th>\n",
       "      <th>Office_U</th>\n",
       "      <th>Office_W</th>\n",
       "      <th>ComplaintDossierID</th>\n",
       "      <th>ComplaintID</th>\n",
       "      <th>ContactDate</th>\n",
       "      <th>ContactChannelID</th>\n",
       "      <th>ComplaintThemeID</th>\n",
       "      <th>ComplaintSubthemeID</th>\n",
       "      <th>ComplaintTopicID</th>\n",
       "      <th>ComplaintTheme</th>\n",
       "      <th>ComplaintSubtheme</th>\n",
       "      <th>ComplaintTopic</th>\n",
       "      <th>ComplaintTheme_EN</th>\n",
       "      <th>ComplaintSubtheme_EN</th>\n",
       "      <th>ComplaintTopic_EN</th>\n",
       "    </tr>\n",
       "  </thead>\n",
       "  <tbody>\n",
       "    <tr>\n",
       "      <th>0</th>\n",
       "      <td>1945807</td>\n",
       "      <td>50-65</td>\n",
       "      <td>M</td>\n",
       "      <td>230</td>\n",
       "      <td>233</td>\n",
       "      <td>197</td>\n",
       "      <td>220</td>\n",
       "      <td>2016-01-12</td>\n",
       "      <td>8</td>\n",
       "      <td>1</td>\n",
       "      <td>5</td>\n",
       "      <td>1</td>\n",
       "      <td>behandelingsduur</td>\n",
       "      <td>n.v.t.</td>\n",
       "      <td>(herzienings)besluit wordt niet / te laat genomen</td>\n",
       "      <td>duration of treatment</td>\n",
       "      <td>N.A.</td>\n",
       "      <td>(Revision) Decision not/too late taken</td>\n",
       "    </tr>\n",
       "    <tr>\n",
       "      <th>1</th>\n",
       "      <td>733565</td>\n",
       "      <td>30-39</td>\n",
       "      <td>M</td>\n",
       "      <td>296</td>\n",
       "      <td>290</td>\n",
       "      <td>198</td>\n",
       "      <td>221</td>\n",
       "      <td>2016-01-12</td>\n",
       "      <td>8</td>\n",
       "      <td>1</td>\n",
       "      <td>5</td>\n",
       "      <td>1</td>\n",
       "      <td>behandelingsduur</td>\n",
       "      <td>n.v.t.</td>\n",
       "      <td>(herzienings)besluit wordt niet / te laat genomen</td>\n",
       "      <td>duration of treatment</td>\n",
       "      <td>N.A.</td>\n",
       "      <td>(Revision) Decision not/too late taken</td>\n",
       "    </tr>\n",
       "  </tbody>\n",
       "</table>\n",
       "</div>"
      ],
      "text/plain": [
       "   CustomerID AgeCategory Gender  Office_U  Office_W  ComplaintDossierID  \\\n",
       "0     1945807       50-65      M       230       233                 197   \n",
       "1      733565       30-39      M       296       290                 198   \n",
       "\n",
       "   ComplaintID ContactDate  ContactChannelID  ComplaintThemeID  \\\n",
       "0          220  2016-01-12                 8                 1   \n",
       "1          221  2016-01-12                 8                 1   \n",
       "\n",
       "   ComplaintSubthemeID  ComplaintTopicID    ComplaintTheme ComplaintSubtheme  \\\n",
       "0                    5                 1  behandelingsduur            n.v.t.   \n",
       "1                    5                 1  behandelingsduur            n.v.t.   \n",
       "\n",
       "                                      ComplaintTopic      ComplaintTheme_EN  \\\n",
       "0  (herzienings)besluit wordt niet / te laat genomen  duration of treatment   \n",
       "1  (herzienings)besluit wordt niet / te laat genomen  duration of treatment   \n",
       "\n",
       "  ComplaintSubtheme_EN                       ComplaintTopic_EN  \n",
       "0                 N.A.  (Revision) Decision not/too late taken  \n",
       "1                 N.A.  (Revision) Decision not/too late taken  "
      ]
     },
     "execution_count": 281,
     "metadata": {},
     "output_type": "execute_result"
    }
   ],
   "source": [
    "complaints.head(2)"
   ]
  },
  {
   "cell_type": "code",
   "execution_count": 111,
   "id": "0dbf9777",
   "metadata": {},
   "outputs": [
    {
     "data": {
      "text/plain": [
       "(289, 18)"
      ]
     },
     "execution_count": 111,
     "metadata": {},
     "output_type": "execute_result"
    }
   ],
   "source": [
    "complaints.shape"
   ]
  },
  {
   "cell_type": "markdown",
   "id": "146f472a",
   "metadata": {},
   "source": [
    "## Simplifying and Merging the Four Datasets\n",
    "\n",
    "To merge the four datasets based on CustomerId first, we need to simplify our data in a way that we have similar columns for each one:"
   ]
  },
  {
   "cell_type": "markdown",
   "id": "a48c26cd",
   "metadata": {},
   "source": [
    "### Complaints Dataset"
   ]
  },
  {
   "cell_type": "markdown",
   "id": "d3cf7082",
   "metadata": {},
   "source": [
    "Since the complaints dataset doesn't comprise time and only have dates, to make this data set consistent with the other three datasets, we will generate random times, and we will add it to our data:"
   ]
  },
  {
   "cell_type": "code",
   "execution_count": 342,
   "id": "d3bc1692",
   "metadata": {},
   "outputs": [],
   "source": [
    "#defining a function to generate random datetime\n",
    "\n",
    "def random_datetimes_or_dates(start, end, out_format='datetime', n=10): \n",
    "\n",
    "    (divide_by, unit) = (10**9, 's') if out_format=='datetime' else (24*60*60*10**9, 'D')\n",
    "\n",
    "    start_u = start.value//divide_by\n",
    "    end_u = end.value//divide_by\n",
    "\n",
    "    return pd.to_datetime(np.random.randint(start_u, end_u, n), unit=unit) "
   ]
  },
  {
   "cell_type": "code",
   "execution_count": 328,
   "id": "a3362048",
   "metadata": {
    "scrolled": true
   },
   "outputs": [
    {
     "data": {
      "text/html": [
       "<div>\n",
       "<style scoped>\n",
       "    .dataframe tbody tr th:only-of-type {\n",
       "        vertical-align: middle;\n",
       "    }\n",
       "\n",
       "    .dataframe tbody tr th {\n",
       "        vertical-align: top;\n",
       "    }\n",
       "\n",
       "    .dataframe thead th {\n",
       "        text-align: right;\n",
       "    }\n",
       "</style>\n",
       "<table border=\"1\" class=\"dataframe\">\n",
       "  <thead>\n",
       "    <tr style=\"text-align: right;\">\n",
       "      <th></th>\n",
       "      <th>0</th>\n",
       "    </tr>\n",
       "  </thead>\n",
       "  <tbody>\n",
       "    <tr>\n",
       "      <th>0</th>\n",
       "      <td>2001-10-07 14:31:31</td>\n",
       "    </tr>\n",
       "    <tr>\n",
       "      <th>1</th>\n",
       "      <td>2000-04-27 16:35:25</td>\n",
       "    </tr>\n",
       "  </tbody>\n",
       "</table>\n",
       "</div>"
      ],
      "text/plain": [
       "                    0\n",
       "0 2001-10-07 14:31:31\n",
       "1 2000-04-27 16:35:25"
      ]
     },
     "execution_count": 328,
     "metadata": {},
     "output_type": "execute_result"
    }
   ],
   "source": [
    "# genertating 289 (number of complaints dataset records) random datetimes\n",
    "start = pd.to_datetime('2000-01-01')\n",
    "end = pd.to_datetime('2005-01-01')\n",
    "random_datetime =random_datetimes_or_dates(start, end, out_format='datetime', n=289)\n",
    "random_datetime = pd.DataFrame(random_datetime)\n",
    "random_datetime.head(2)"
   ]
  },
  {
   "cell_type": "code",
   "execution_count": 340,
   "id": "e2b8906b",
   "metadata": {},
   "outputs": [
    {
     "data": {
      "text/html": [
       "<div>\n",
       "<style scoped>\n",
       "    .dataframe tbody tr th:only-of-type {\n",
       "        vertical-align: middle;\n",
       "    }\n",
       "\n",
       "    .dataframe tbody tr th {\n",
       "        vertical-align: top;\n",
       "    }\n",
       "\n",
       "    .dataframe thead th {\n",
       "        text-align: right;\n",
       "    }\n",
       "</style>\n",
       "<table border=\"1\" class=\"dataframe\">\n",
       "  <thead>\n",
       "    <tr style=\"text-align: right;\">\n",
       "      <th></th>\n",
       "      <th>0</th>\n",
       "      <th>Time</th>\n",
       "    </tr>\n",
       "  </thead>\n",
       "  <tbody>\n",
       "    <tr>\n",
       "      <th>0</th>\n",
       "      <td>2001-10-07 14:31:31</td>\n",
       "      <td>14:31:31</td>\n",
       "    </tr>\n",
       "    <tr>\n",
       "      <th>1</th>\n",
       "      <td>2000-04-27 16:35:25</td>\n",
       "      <td>16:35:25</td>\n",
       "    </tr>\n",
       "  </tbody>\n",
       "</table>\n",
       "</div>"
      ],
      "text/plain": [
       "                    0      Time\n",
       "0 2001-10-07 14:31:31  14:31:31\n",
       "1 2000-04-27 16:35:25  16:35:25"
      ]
     },
     "execution_count": 340,
     "metadata": {},
     "output_type": "execute_result"
    }
   ],
   "source": [
    "# since complaints dataset has dates itself, we only need the random times so we divide random datetimes to date and time columns\n",
    "\n",
    "random_datetime['Time'] = pd.to_datetime(random_datetime[0]).dt.time\n",
    "random_datetime.head(2)"
   ]
  },
  {
   "cell_type": "code",
   "execution_count": 341,
   "id": "b1776741",
   "metadata": {},
   "outputs": [
    {
     "data": {
      "text/html": [
       "<div>\n",
       "<style scoped>\n",
       "    .dataframe tbody tr th:only-of-type {\n",
       "        vertical-align: middle;\n",
       "    }\n",
       "\n",
       "    .dataframe tbody tr th {\n",
       "        vertical-align: top;\n",
       "    }\n",
       "\n",
       "    .dataframe thead th {\n",
       "        text-align: right;\n",
       "    }\n",
       "</style>\n",
       "<table border=\"1\" class=\"dataframe\">\n",
       "  <thead>\n",
       "    <tr style=\"text-align: right;\">\n",
       "      <th></th>\n",
       "      <th>date</th>\n",
       "      <th>time</th>\n",
       "      <th>datetime</th>\n",
       "    </tr>\n",
       "  </thead>\n",
       "  <tbody>\n",
       "    <tr>\n",
       "      <th>0</th>\n",
       "      <td>2016-01-12</td>\n",
       "      <td>14:31:31</td>\n",
       "      <td>2016-01-12 14:31:31</td>\n",
       "    </tr>\n",
       "    <tr>\n",
       "      <th>1</th>\n",
       "      <td>2016-01-12</td>\n",
       "      <td>16:35:25</td>\n",
       "      <td>2016-01-12 16:35:25</td>\n",
       "    </tr>\n",
       "    <tr>\n",
       "      <th>2</th>\n",
       "      <td>2016-02-01</td>\n",
       "      <td>09:33:39</td>\n",
       "      <td>2016-02-01 09:33:39</td>\n",
       "    </tr>\n",
       "    <tr>\n",
       "      <th>3</th>\n",
       "      <td>2015-12-11</td>\n",
       "      <td>09:57:48</td>\n",
       "      <td>2015-12-11 09:57:48</td>\n",
       "    </tr>\n",
       "    <tr>\n",
       "      <th>4</th>\n",
       "      <td>2015-07-07</td>\n",
       "      <td>07:50:10</td>\n",
       "      <td>2015-07-07 07:50:10</td>\n",
       "    </tr>\n",
       "  </tbody>\n",
       "</table>\n",
       "</div>"
      ],
      "text/plain": [
       "         date      time            datetime\n",
       "0  2016-01-12  14:31:31 2016-01-12 14:31:31\n",
       "1  2016-01-12  16:35:25 2016-01-12 16:35:25\n",
       "2  2016-02-01  09:33:39 2016-02-01 09:33:39\n",
       "3  2015-12-11  09:57:48 2015-12-11 09:57:48\n",
       "4  2015-07-07  07:50:10 2015-07-07 07:50:10"
      ]
     },
     "execution_count": 341,
     "metadata": {},
     "output_type": "execute_result"
    }
   ],
   "source": [
    "# Here we combine actual dates from complaints dataset with random times we genereted to create a complete datetime column \n",
    "\n",
    "complaints_datetime = pd.DataFrame(data={'date': complaints.ContactDate, 'time' : random_datetime['Time']})\n",
    "complaints_datetime['date'] = pd.to_datetime(complaints_datetime['date']).dt.date\n",
    "complaints_datetime['datetime'] = complaints_datetime.apply(lambda r : pd.datetime.combine(r['date'],r['time']),1)\n",
    "complaints_datetime.head()"
   ]
  },
  {
   "cell_type": "code",
   "execution_count": 331,
   "id": "c508cead",
   "metadata": {
    "scrolled": true
   },
   "outputs": [
    {
     "data": {
      "text/html": [
       "<div>\n",
       "<style scoped>\n",
       "    .dataframe tbody tr th:only-of-type {\n",
       "        vertical-align: middle;\n",
       "    }\n",
       "\n",
       "    .dataframe tbody tr th {\n",
       "        vertical-align: top;\n",
       "    }\n",
       "\n",
       "    .dataframe thead th {\n",
       "        text-align: right;\n",
       "    }\n",
       "</style>\n",
       "<table border=\"1\" class=\"dataframe\">\n",
       "  <thead>\n",
       "    <tr style=\"text-align: right;\">\n",
       "      <th></th>\n",
       "      <th>customerID</th>\n",
       "      <th>activity</th>\n",
       "      <th>date</th>\n",
       "    </tr>\n",
       "  </thead>\n",
       "  <tbody>\n",
       "    <tr>\n",
       "      <th>0</th>\n",
       "      <td>1945807</td>\n",
       "      <td>complaint</td>\n",
       "      <td>2016-01-12 14:31:31</td>\n",
       "    </tr>\n",
       "    <tr>\n",
       "      <th>1</th>\n",
       "      <td>733565</td>\n",
       "      <td>complaint</td>\n",
       "      <td>2016-01-12 16:35:25</td>\n",
       "    </tr>\n",
       "    <tr>\n",
       "      <th>2</th>\n",
       "      <td>413563</td>\n",
       "      <td>complaint</td>\n",
       "      <td>2016-02-01 09:33:39</td>\n",
       "    </tr>\n",
       "    <tr>\n",
       "      <th>3</th>\n",
       "      <td>2027840</td>\n",
       "      <td>complaint</td>\n",
       "      <td>2015-12-11 09:57:48</td>\n",
       "    </tr>\n",
       "    <tr>\n",
       "      <th>4</th>\n",
       "      <td>1202227</td>\n",
       "      <td>complaint</td>\n",
       "      <td>2015-07-07 07:50:10</td>\n",
       "    </tr>\n",
       "  </tbody>\n",
       "</table>\n",
       "</div>"
      ],
      "text/plain": [
       "   customerID   activity                date\n",
       "0     1945807  complaint 2016-01-12 14:31:31\n",
       "1      733565  complaint 2016-01-12 16:35:25\n",
       "2      413563  complaint 2016-02-01 09:33:39\n",
       "3     2027840  complaint 2015-12-11 09:57:48\n",
       "4     1202227  complaint 2015-07-07 07:50:10"
      ]
     },
     "execution_count": 331,
     "metadata": {},
     "output_type": "execute_result"
    }
   ],
   "source": [
    "## Simplify complaints\n",
    "\n",
    "complaints_simp = pd.DataFrame(data={'customerID': complaints.CustomerID, \"activity\" : \"complaint\", \"date\" : complaints_datetime['datetime']})\n",
    "complaints_simp.head()\n"
   ]
  },
  {
   "cell_type": "code",
   "execution_count": 81,
   "id": "29cd89f5",
   "metadata": {},
   "outputs": [
    {
     "data": {
      "text/html": [
       "<div>\n",
       "<style scoped>\n",
       "    .dataframe tbody tr th:only-of-type {\n",
       "        vertical-align: middle;\n",
       "    }\n",
       "\n",
       "    .dataframe tbody tr th {\n",
       "        vertical-align: top;\n",
       "    }\n",
       "\n",
       "    .dataframe thead th {\n",
       "        text-align: right;\n",
       "    }\n",
       "</style>\n",
       "<table border=\"1\" class=\"dataframe\">\n",
       "  <thead>\n",
       "    <tr style=\"text-align: right;\">\n",
       "      <th></th>\n",
       "      <th>customerID</th>\n",
       "      <th>activity</th>\n",
       "      <th>date</th>\n",
       "    </tr>\n",
       "  </thead>\n",
       "  <tbody>\n",
       "    <tr>\n",
       "      <th>0</th>\n",
       "      <td>1876596</td>\n",
       "      <td>phone_call</td>\n",
       "      <td>2015-08-24 14:00:34</td>\n",
       "    </tr>\n",
       "    <tr>\n",
       "      <th>1</th>\n",
       "      <td>722160</td>\n",
       "      <td>phone_call</td>\n",
       "      <td>2015-08-27 11:50:08</td>\n",
       "    </tr>\n",
       "    <tr>\n",
       "      <th>2</th>\n",
       "      <td>1536943</td>\n",
       "      <td>phone_call</td>\n",
       "      <td>2015-08-20 11:01:16</td>\n",
       "    </tr>\n",
       "    <tr>\n",
       "      <th>3</th>\n",
       "      <td>1816718</td>\n",
       "      <td>phone_call</td>\n",
       "      <td>2015-08-27 12:19:28</td>\n",
       "    </tr>\n",
       "    <tr>\n",
       "      <th>4</th>\n",
       "      <td>1983285</td>\n",
       "      <td>phone_call</td>\n",
       "      <td>2015-08-27 13:54:03</td>\n",
       "    </tr>\n",
       "  </tbody>\n",
       "</table>\n",
       "</div>"
      ],
      "text/plain": [
       "   customerID    activity                date\n",
       "0     1876596  phone_call 2015-08-24 14:00:34\n",
       "1      722160  phone_call 2015-08-27 11:50:08\n",
       "2     1536943  phone_call 2015-08-20 11:01:16\n",
       "3     1816718  phone_call 2015-08-27 12:19:28\n",
       "4     1983285  phone_call 2015-08-27 13:54:03"
      ]
     },
     "execution_count": 81,
     "metadata": {},
     "output_type": "execute_result"
    }
   ],
   "source": [
    "## Simplify phone_calls\n",
    "\n",
    "phone_calls_simp = pd.DataFrame(data={'customerID': phone_calls.CustomerID, \"activity\" : \"phone_call\", \"date\" : phone_calls.ContactDate +' '+ phone_calls.ContactTimeStart})\n",
    "phone_calls_simp['date'] = pd.to_datetime(phone_calls_simp['date'])\n",
    "phone_calls_simp.head()\n"
   ]
  },
  {
   "cell_type": "code",
   "execution_count": 71,
   "id": "1e8b6fc9",
   "metadata": {},
   "outputs": [
    {
     "data": {
      "text/html": [
       "<div>\n",
       "<style scoped>\n",
       "    .dataframe tbody tr th:only-of-type {\n",
       "        vertical-align: middle;\n",
       "    }\n",
       "\n",
       "    .dataframe tbody tr th {\n",
       "        vertical-align: top;\n",
       "    }\n",
       "\n",
       "    .dataframe thead th {\n",
       "        text-align: right;\n",
       "    }\n",
       "</style>\n",
       "<table border=\"1\" class=\"dataframe\">\n",
       "  <thead>\n",
       "    <tr style=\"text-align: right;\">\n",
       "      <th></th>\n",
       "      <th>customerID</th>\n",
       "      <th>activity</th>\n",
       "      <th>date</th>\n",
       "    </tr>\n",
       "  </thead>\n",
       "  <tbody>\n",
       "    <tr>\n",
       "      <th>0</th>\n",
       "      <td>2032131</td>\n",
       "      <td>workflow_message</td>\n",
       "      <td>2015-11-02 01:36:53</td>\n",
       "    </tr>\n",
       "    <tr>\n",
       "      <th>1</th>\n",
       "      <td>2032131</td>\n",
       "      <td>workflow_message</td>\n",
       "      <td>2015-11-05 21:35:43</td>\n",
       "    </tr>\n",
       "    <tr>\n",
       "      <th>2</th>\n",
       "      <td>2032131</td>\n",
       "      <td>workflow_message</td>\n",
       "      <td>2015-11-06 15:47:15</td>\n",
       "    </tr>\n",
       "    <tr>\n",
       "      <th>3</th>\n",
       "      <td>2085395</td>\n",
       "      <td>workflow_message</td>\n",
       "      <td>2015-10-20 23:44:39</td>\n",
       "    </tr>\n",
       "    <tr>\n",
       "      <th>4</th>\n",
       "      <td>2085395</td>\n",
       "      <td>workflow_message</td>\n",
       "      <td>2016-01-20 23:04:25</td>\n",
       "    </tr>\n",
       "  </tbody>\n",
       "</table>\n",
       "</div>"
      ],
      "text/plain": [
       "   customerID          activity                date\n",
       "0     2032131  workflow_message 2015-11-02 01:36:53\n",
       "1     2032131  workflow_message 2015-11-05 21:35:43\n",
       "2     2032131  workflow_message 2015-11-06 15:47:15\n",
       "3     2085395  workflow_message 2015-10-20 23:44:39\n",
       "4     2085395  workflow_message 2016-01-20 23:04:25"
      ]
     },
     "execution_count": 71,
     "metadata": {},
     "output_type": "execute_result"
    }
   ],
   "source": [
    "## Simplify workflow_messages\n",
    "\n",
    "workflow_messages_simp = pd.DataFrame(data={'customerID': workflow_messages.CustomerID, \"activity\" : \"workflow_message\", \"date\" : workflow_messages.EventDateTime})\n",
    "workflow_messages_simp['date'] = pd.to_datetime(workflow_messages_simp['date'])\n",
    "workflow_messages_simp.head()\n"
   ]
  },
  {
   "cell_type": "code",
   "execution_count": 72,
   "id": "5856c3c9",
   "metadata": {},
   "outputs": [
    {
     "data": {
      "text/html": [
       "<div>\n",
       "<style scoped>\n",
       "    .dataframe tbody tr th:only-of-type {\n",
       "        vertical-align: middle;\n",
       "    }\n",
       "\n",
       "    .dataframe tbody tr th {\n",
       "        vertical-align: top;\n",
       "    }\n",
       "\n",
       "    .dataframe thead th {\n",
       "        text-align: right;\n",
       "    }\n",
       "</style>\n",
       "<table border=\"1\" class=\"dataframe\">\n",
       "  <thead>\n",
       "    <tr style=\"text-align: right;\">\n",
       "      <th></th>\n",
       "      <th>customerID</th>\n",
       "      <th>activity</th>\n",
       "      <th>date</th>\n",
       "    </tr>\n",
       "  </thead>\n",
       "  <tbody>\n",
       "    <tr>\n",
       "      <th>0</th>\n",
       "      <td>2025826</td>\n",
       "      <td>surfing_webpages</td>\n",
       "      <td>2015-10-05 10:12:56.880</td>\n",
       "    </tr>\n",
       "    <tr>\n",
       "      <th>1</th>\n",
       "      <td>2025826</td>\n",
       "      <td>surfing_webpages</td>\n",
       "      <td>2015-09-30 15:14:35.943</td>\n",
       "    </tr>\n",
       "    <tr>\n",
       "      <th>2</th>\n",
       "      <td>1503890</td>\n",
       "      <td>surfing_webpages</td>\n",
       "      <td>2015-09-01 19:35:06.707</td>\n",
       "    </tr>\n",
       "    <tr>\n",
       "      <th>3</th>\n",
       "      <td>2063574</td>\n",
       "      <td>surfing_webpages</td>\n",
       "      <td>2015-11-06 10:47:42.137</td>\n",
       "    </tr>\n",
       "    <tr>\n",
       "      <th>4</th>\n",
       "      <td>2185161</td>\n",
       "      <td>surfing_webpages</td>\n",
       "      <td>2016-01-11 18:44:07.877</td>\n",
       "    </tr>\n",
       "  </tbody>\n",
       "</table>\n",
       "</div>"
      ],
      "text/plain": [
       "   customerID          activity                    date\n",
       "0     2025826  surfing_webpages 2015-10-05 10:12:56.880\n",
       "1     2025826  surfing_webpages 2015-09-30 15:14:35.943\n",
       "2     1503890  surfing_webpages 2015-09-01 19:35:06.707\n",
       "3     2063574  surfing_webpages 2015-11-06 10:47:42.137\n",
       "4     2185161  surfing_webpages 2016-01-11 18:44:07.877"
      ]
     },
     "execution_count": 72,
     "metadata": {},
     "output_type": "execute_result"
    }
   ],
   "source": [
    "## Simplify clicks_logged_in\n",
    "\n",
    "clicks_logged_in_simp = pd.DataFrame(data={'customerID': clicks_logged_in.CustomerID, \"activity\" : \"surfing_webpages\", \"date\" : clicks_logged_in.TIMESTAMP})\n",
    "clicks_logged_in_simp['date'] = pd.to_datetime(clicks_logged_in_simp['date'])\n",
    "clicks_logged_in_simp.head()\n"
   ]
  },
  {
   "cell_type": "code",
   "execution_count": 343,
   "id": "70875eed",
   "metadata": {
    "scrolled": false
   },
   "outputs": [
    {
     "data": {
      "text/html": [
       "<div>\n",
       "<style scoped>\n",
       "    .dataframe tbody tr th:only-of-type {\n",
       "        vertical-align: middle;\n",
       "    }\n",
       "\n",
       "    .dataframe tbody tr th {\n",
       "        vertical-align: top;\n",
       "    }\n",
       "\n",
       "    .dataframe thead th {\n",
       "        text-align: right;\n",
       "    }\n",
       "</style>\n",
       "<table border=\"1\" class=\"dataframe\">\n",
       "  <thead>\n",
       "    <tr style=\"text-align: right;\">\n",
       "      <th></th>\n",
       "      <th>customerID</th>\n",
       "      <th>activity</th>\n",
       "      <th>date</th>\n",
       "    </tr>\n",
       "  </thead>\n",
       "  <tbody>\n",
       "    <tr>\n",
       "      <th>9217</th>\n",
       "      <td>1297588</td>\n",
       "      <td>workflow_message</td>\n",
       "      <td>2015-07-01 00:26:11.000</td>\n",
       "    </tr>\n",
       "    <tr>\n",
       "      <th>29692</th>\n",
       "      <td>2035791</td>\n",
       "      <td>workflow_message</td>\n",
       "      <td>2015-07-01 00:42:30.000</td>\n",
       "    </tr>\n",
       "    <tr>\n",
       "      <th>39687</th>\n",
       "      <td>2016236</td>\n",
       "      <td>workflow_message</td>\n",
       "      <td>2015-07-01 00:43:59.000</td>\n",
       "    </tr>\n",
       "    <tr>\n",
       "      <th>59798</th>\n",
       "      <td>2040395</td>\n",
       "      <td>workflow_message</td>\n",
       "      <td>2015-07-01 01:07:41.000</td>\n",
       "    </tr>\n",
       "    <tr>\n",
       "      <th>3271608</th>\n",
       "      <td>797444</td>\n",
       "      <td>surfing_webpages</td>\n",
       "      <td>2015-07-01 02:36:59.713</td>\n",
       "    </tr>\n",
       "    <tr>\n",
       "      <th>...</th>\n",
       "      <td>...</td>\n",
       "      <td>...</td>\n",
       "      <td>...</td>\n",
       "    </tr>\n",
       "    <tr>\n",
       "      <th>121961</th>\n",
       "      <td>602197</td>\n",
       "      <td>phone_call</td>\n",
       "      <td>2016-02-29 17:00:10.000</td>\n",
       "    </tr>\n",
       "    <tr>\n",
       "      <th>122567</th>\n",
       "      <td>2106983</td>\n",
       "      <td>phone_call</td>\n",
       "      <td>2016-02-29 17:00:28.000</td>\n",
       "    </tr>\n",
       "    <tr>\n",
       "      <th>64831</th>\n",
       "      <td>2237416</td>\n",
       "      <td>phone_call</td>\n",
       "      <td>2016-02-29 17:03:09.000</td>\n",
       "    </tr>\n",
       "    <tr>\n",
       "      <th>121246</th>\n",
       "      <td>2106983</td>\n",
       "      <td>phone_call</td>\n",
       "      <td>2016-02-29 17:04:14.000</td>\n",
       "    </tr>\n",
       "    <tr>\n",
       "      <th>121673</th>\n",
       "      <td>2106983</td>\n",
       "      <td>phone_call</td>\n",
       "      <td>2016-02-29 17:05:13.000</td>\n",
       "    </tr>\n",
       "  </tbody>\n",
       "</table>\n",
       "<p>7364684 rows × 3 columns</p>\n",
       "</div>"
      ],
      "text/plain": [
       "         customerID          activity                    date\n",
       "9217        1297588  workflow_message 2015-07-01 00:26:11.000\n",
       "29692       2035791  workflow_message 2015-07-01 00:42:30.000\n",
       "39687       2016236  workflow_message 2015-07-01 00:43:59.000\n",
       "59798       2040395  workflow_message 2015-07-01 01:07:41.000\n",
       "3271608      797444  surfing_webpages 2015-07-01 02:36:59.713\n",
       "...             ...               ...                     ...\n",
       "121961       602197        phone_call 2016-02-29 17:00:10.000\n",
       "122567      2106983        phone_call 2016-02-29 17:00:28.000\n",
       "64831       2237416        phone_call 2016-02-29 17:03:09.000\n",
       "121246      2106983        phone_call 2016-02-29 17:04:14.000\n",
       "121673      2106983        phone_call 2016-02-29 17:05:13.000\n",
       "\n",
       "[7364684 rows x 3 columns]"
      ]
     },
     "execution_count": 343,
     "metadata": {},
     "output_type": "execute_result"
    }
   ],
   "source": [
    "## Merging the four simplified datasets\n",
    "\n",
    "simple_customer_journey = pd.concat([clicks_logged_in_simp, workflow_messages_simp,phone_calls_simp ,complaints_simp])\n",
    "log_csv = simple_customer_journey.copy()\n",
    "log_csv.sort_values(by='date', ascending=True)\n"
   ]
  },
  {
   "cell_type": "code",
   "execution_count": 345,
   "id": "c3f96c95",
   "metadata": {
    "scrolled": true
   },
   "outputs": [
    {
     "data": {
      "text/plain": [
       "customerID             int64\n",
       "activity              object\n",
       "date          datetime64[ns]\n",
       "dtype: object"
      ]
     },
     "execution_count": 345,
     "metadata": {},
     "output_type": "execute_result"
    }
   ],
   "source": [
    "log_csv.dtypes"
   ]
  },
  {
   "cell_type": "code",
   "execution_count": 344,
   "id": "c64cbabd",
   "metadata": {},
   "outputs": [],
   "source": [
    "## Write to csv file for analysis wtih Disco\n",
    "#log_csv.to_csv('log.csv',index=False)"
   ]
  },
  {
   "cell_type": "code",
   "execution_count": 334,
   "id": "754dde2a",
   "metadata": {},
   "outputs": [
    {
     "data": {
      "text/plain": [
       "(7364684, 3)"
      ]
     },
     "execution_count": 334,
     "metadata": {},
     "output_type": "execute_result"
    }
   ],
   "source": [
    "# Shape\n",
    "log_csv.shape"
   ]
  },
  {
   "cell_type": "code",
   "execution_count": 335,
   "id": "584bdf69",
   "metadata": {},
   "outputs": [
    {
     "data": {
      "text/plain": [
       "customerID    0\n",
       "activity      0\n",
       "date          0\n",
       "dtype: int64"
      ]
     },
     "execution_count": 335,
     "metadata": {},
     "output_type": "execute_result"
    }
   ],
   "source": [
    "# Check NA-values\n",
    "log_csv.isna().sum()"
   ]
  },
  {
   "cell_type": "code",
   "execution_count": 336,
   "id": "038e7239",
   "metadata": {},
   "outputs": [
    {
     "name": "stdout",
     "output_type": "stream",
     "text": [
      "<class 'pandas.core.frame.DataFrame'>\n",
      "Int64Index: 7364684 entries, 0 to 288\n",
      "Data columns (total 3 columns):\n",
      " #   Column      Dtype         \n",
      "---  ------      -----         \n",
      " 0   customerID  int64         \n",
      " 1   activity    object        \n",
      " 2   date        datetime64[ns]\n",
      "dtypes: datetime64[ns](1), int64(1), object(1)\n",
      "memory usage: 224.8+ MB\n"
     ]
    }
   ],
   "source": [
    "# Info\n",
    "log_csv.info()"
   ]
  },
  {
   "cell_type": "code",
   "execution_count": 337,
   "id": "b79ac929",
   "metadata": {
    "scrolled": true
   },
   "outputs": [
    {
     "data": {
      "text/html": [
       "<div>\n",
       "<style scoped>\n",
       "    .dataframe tbody tr th:only-of-type {\n",
       "        vertical-align: middle;\n",
       "    }\n",
       "\n",
       "    .dataframe tbody tr th {\n",
       "        vertical-align: top;\n",
       "    }\n",
       "\n",
       "    .dataframe thead th {\n",
       "        text-align: right;\n",
       "    }\n",
       "</style>\n",
       "<table border=\"1\" class=\"dataframe\">\n",
       "  <thead>\n",
       "    <tr style=\"text-align: right;\">\n",
       "      <th></th>\n",
       "      <th>customerID</th>\n",
       "      <th>activity</th>\n",
       "      <th>date</th>\n",
       "    </tr>\n",
       "  </thead>\n",
       "  <tbody>\n",
       "    <tr>\n",
       "      <th>5622307</th>\n",
       "      <td>1742937</td>\n",
       "      <td>surfing_webpages</td>\n",
       "      <td>2015-08-31 11:57:35.087</td>\n",
       "    </tr>\n",
       "    <tr>\n",
       "      <th>1272174</th>\n",
       "      <td>2097690</td>\n",
       "      <td>surfing_webpages</td>\n",
       "      <td>2016-01-19 15:10:22.567</td>\n",
       "    </tr>\n",
       "    <tr>\n",
       "      <th>6205871</th>\n",
       "      <td>2057109</td>\n",
       "      <td>surfing_webpages</td>\n",
       "      <td>2015-08-19 15:25:38.887</td>\n",
       "    </tr>\n",
       "    <tr>\n",
       "      <th>6163210</th>\n",
       "      <td>250421</td>\n",
       "      <td>surfing_webpages</td>\n",
       "      <td>2015-08-31 10:18:06.747</td>\n",
       "    </tr>\n",
       "    <tr>\n",
       "      <th>6454015</th>\n",
       "      <td>2185448</td>\n",
       "      <td>surfing_webpages</td>\n",
       "      <td>2015-12-22 15:02:24.057</td>\n",
       "    </tr>\n",
       "    <tr>\n",
       "      <th>...</th>\n",
       "      <td>...</td>\n",
       "      <td>...</td>\n",
       "      <td>...</td>\n",
       "    </tr>\n",
       "    <tr>\n",
       "      <th>5794942</th>\n",
       "      <td>2014488</td>\n",
       "      <td>surfing_webpages</td>\n",
       "      <td>2015-09-08 23:01:58.607</td>\n",
       "    </tr>\n",
       "    <tr>\n",
       "      <th>2592654</th>\n",
       "      <td>2214813</td>\n",
       "      <td>surfing_webpages</td>\n",
       "      <td>2016-01-27 19:11:30.193</td>\n",
       "    </tr>\n",
       "    <tr>\n",
       "      <th>2281506</th>\n",
       "      <td>2045367</td>\n",
       "      <td>surfing_webpages</td>\n",
       "      <td>2015-11-07 12:53:18.947</td>\n",
       "    </tr>\n",
       "    <tr>\n",
       "      <th>1781919</th>\n",
       "      <td>2220383</td>\n",
       "      <td>surfing_webpages</td>\n",
       "      <td>2016-02-26 10:20:33.703</td>\n",
       "    </tr>\n",
       "    <tr>\n",
       "      <th>3380855</th>\n",
       "      <td>2183216</td>\n",
       "      <td>surfing_webpages</td>\n",
       "      <td>2016-02-16 20:14:27.050</td>\n",
       "    </tr>\n",
       "  </tbody>\n",
       "</table>\n",
       "<p>1841171 rows × 3 columns</p>\n",
       "</div>"
      ],
      "text/plain": [
       "         customerID          activity                    date\n",
       "5622307     1742937  surfing_webpages 2015-08-31 11:57:35.087\n",
       "1272174     2097690  surfing_webpages 2016-01-19 15:10:22.567\n",
       "6205871     2057109  surfing_webpages 2015-08-19 15:25:38.887\n",
       "6163210      250421  surfing_webpages 2015-08-31 10:18:06.747\n",
       "6454015     2185448  surfing_webpages 2015-12-22 15:02:24.057\n",
       "...             ...               ...                     ...\n",
       "5794942     2014488  surfing_webpages 2015-09-08 23:01:58.607\n",
       "2592654     2214813  surfing_webpages 2016-01-27 19:11:30.193\n",
       "2281506     2045367  surfing_webpages 2015-11-07 12:53:18.947\n",
       "1781919     2220383  surfing_webpages 2016-02-26 10:20:33.703\n",
       "3380855     2183216  surfing_webpages 2016-02-16 20:14:27.050\n",
       "\n",
       "[1841171 rows x 3 columns]"
      ]
     },
     "execution_count": 337,
     "metadata": {},
     "output_type": "execute_result"
    }
   ],
   "source": [
    "# Sample\n",
    "log_csv.sample(frac=.25)"
   ]
  },
  {
   "cell_type": "code",
   "execution_count": 138,
   "id": "cb523df2",
   "metadata": {
    "scrolled": true
   },
   "outputs": [],
   "source": [
    "log_csv = log_csv.rename(columns={'customerID': 'case_id','date': 'timestamp' })"
   ]
  },
  {
   "cell_type": "code",
   "execution_count": 338,
   "id": "6beae069",
   "metadata": {},
   "outputs": [
    {
     "data": {
      "text/html": [
       "<div>\n",
       "<style scoped>\n",
       "    .dataframe tbody tr th:only-of-type {\n",
       "        vertical-align: middle;\n",
       "    }\n",
       "\n",
       "    .dataframe tbody tr th {\n",
       "        vertical-align: top;\n",
       "    }\n",
       "\n",
       "    .dataframe thead th {\n",
       "        text-align: right;\n",
       "    }\n",
       "</style>\n",
       "<table border=\"1\" class=\"dataframe\">\n",
       "  <thead>\n",
       "    <tr style=\"text-align: right;\">\n",
       "      <th></th>\n",
       "      <th>unique values</th>\n",
       "      <th>fraction</th>\n",
       "    </tr>\n",
       "    <tr>\n",
       "      <th>variable</th>\n",
       "      <th></th>\n",
       "      <th></th>\n",
       "    </tr>\n",
       "  </thead>\n",
       "  <tbody>\n",
       "    <tr>\n",
       "      <th>customerID</th>\n",
       "      <td>27412</td>\n",
       "      <td>0.0</td>\n",
       "    </tr>\n",
       "    <tr>\n",
       "      <th>activity</th>\n",
       "      <td>4</td>\n",
       "      <td>0.0</td>\n",
       "    </tr>\n",
       "    <tr>\n",
       "      <th>date</th>\n",
       "      <td>7350912</td>\n",
       "      <td>1.0</td>\n",
       "    </tr>\n",
       "  </tbody>\n",
       "</table>\n",
       "</div>"
      ],
      "text/plain": [
       "            unique values  fraction\n",
       "variable                           \n",
       "customerID          27412       0.0\n",
       "activity                4       0.0\n",
       "date              7350912       1.0"
      ]
     },
     "execution_count": 338,
     "metadata": {},
     "output_type": "execute_result"
    }
   ],
   "source": [
    "# Unique values\n",
    "pd.DataFrame(\n",
    "    {\n",
    "        'variable': log_csv.columns, \n",
    "        'unique values': [log_csv[col].nunique() for col in log_csv.columns],\n",
    "        'fraction': [round(log_csv[col].nunique() / log_csv.shape[0], 2) for col in log_csv.columns], \n",
    "    }\n",
    ").set_index('variable')"
   ]
  },
  {
   "cell_type": "code",
   "execution_count": 128,
   "id": "5f825884",
   "metadata": {},
   "outputs": [
    {
     "data": {
      "text/plain": [
       "0      2025826\n",
       "1      2025826\n",
       "2      1503890\n",
       "3      2063574\n",
       "4      2185161\n",
       "        ...   \n",
       "284    1373382\n",
       "285    1604792\n",
       "286    1774398\n",
       "287    1840727\n",
       "288    1604792\n",
       "Name: case_id, Length: 7364684, dtype: int64"
      ]
     },
     "execution_count": 128,
     "metadata": {},
     "output_type": "execute_result"
    }
   ],
   "source": [
    "log_csv['case_id']"
   ]
  },
  {
   "cell_type": "code",
   "execution_count": 140,
   "id": "204cdd35",
   "metadata": {},
   "outputs": [
    {
     "data": {
      "image/png": "[encoded data removed]",
      "text/plain": [
       "<Figure size 432x288 with 1 Axes>"
      ]
     },
     "metadata": {
      "needs_background": "light"
     },
     "output_type": "display_data"
    }
   ],
   "source": [
    "# Value counts: case_id\n",
    "log_csv.case_id.value_counts().head(20).reset_index(drop=True).plot(y='case_id', kind='barh', title='case_id')\n",
    "plt.show()"
   ]
  },
  {
   "cell_type": "code",
   "execution_count": 141,
   "id": "053b65ab",
   "metadata": {},
   "outputs": [
    {
     "data": {
      "image/png": "[encoded data removed]",
      "text/plain": [
       "<Figure size 432x288 with 1 Axes>"
      ]
     },
     "metadata": {
      "needs_background": "light"
     },
     "output_type": "display_data"
    }
   ],
   "source": [
    "# Value counts: activity\n",
    "log_csv.activity.value_counts().plot(y='activity', kind='barh', title='activity')\n",
    "plt.show()"
   ]
  },
  {
   "cell_type": "code",
   "execution_count": 159,
   "id": "fae7eb51",
   "metadata": {},
   "outputs": [
    {
     "data": {
      "text/html": [
       "<div>\n",
       "<style scoped>\n",
       "    .dataframe tbody tr th:only-of-type {\n",
       "        vertical-align: middle;\n",
       "    }\n",
       "\n",
       "    .dataframe tbody tr th {\n",
       "        vertical-align: top;\n",
       "    }\n",
       "\n",
       "    .dataframe thead th {\n",
       "        text-align: right;\n",
       "    }\n",
       "</style>\n",
       "<table border=\"1\" class=\"dataframe\">\n",
       "  <thead>\n",
       "    <tr style=\"text-align: right;\">\n",
       "      <th></th>\n",
       "      <th>activity</th>\n",
       "    </tr>\n",
       "  </thead>\n",
       "  <tbody>\n",
       "    <tr>\n",
       "      <th>surfing_webpages</th>\n",
       "      <td>7174934</td>\n",
       "    </tr>\n",
       "    <tr>\n",
       "      <th>phone_call</th>\n",
       "      <td>123403</td>\n",
       "    </tr>\n",
       "    <tr>\n",
       "      <th>workflow_message</th>\n",
       "      <td>66058</td>\n",
       "    </tr>\n",
       "    <tr>\n",
       "      <th>complaint</th>\n",
       "      <td>289</td>\n",
       "    </tr>\n",
       "  </tbody>\n",
       "</table>\n",
       "</div>"
      ],
      "text/plain": [
       "                  activity\n",
       "surfing_webpages   7174934\n",
       "phone_call          123403\n",
       "workflow_message     66058\n",
       "complaint              289"
      ]
     },
     "execution_count": 159,
     "metadata": {},
     "output_type": "execute_result"
    }
   ],
   "source": [
    "activity_counts=pd.DataFrame(log_csv['activity'].value_counts())\n",
    "activity_counts"
   ]
  },
  {
   "cell_type": "code",
   "execution_count": 142,
   "id": "0b44ad60",
   "metadata": {},
   "outputs": [
    {
     "data": {
      "text/plain": [
       "7350761"
      ]
     },
     "execution_count": 142,
     "metadata": {},
     "output_type": "execute_result"
    }
   ],
   "source": [
    "# Unique values: timestamp\n",
    "log_csv.timestamp.nunique()"
   ]
  },
  {
   "cell_type": "code",
   "execution_count": 143,
   "id": "ed167f3d",
   "metadata": {},
   "outputs": [
    {
     "data": {
      "text/plain": [
       "2015-12-01 00:00:01.000    13\n",
       "2015-12-02 00:00:01.000     9\n",
       "2016-02-01 00:00:01.000     8\n",
       "2016-01-05 00:00:01.000     7\n",
       "2016-01-12 00:00:01.000     6\n",
       "                           ..\n",
       "2015-11-11 13:11:02.597     2\n",
       "2015-08-23 20:58:56.867     2\n",
       "2016-02-03 13:14:32.440     2\n",
       "2015-11-05 09:45:20.127     2\n",
       "2016-01-18 11:28:10.197     2\n",
       "Name: timestamp, Length: 13785, dtype: int64"
      ]
     },
     "execution_count": 143,
     "metadata": {},
     "output_type": "execute_result"
    }
   ],
   "source": [
    "# Multiple occurences: timestamp\n",
    "log_csv.timestamp.value_counts()[log_csv.timestamp.value_counts() > 1]"
   ]
  },
  {
   "cell_type": "code",
   "execution_count": 144,
   "id": "71b78b70",
   "metadata": {},
   "outputs": [],
   "source": [
    "def activity_duration(\n",
    "    event_log: pd.DataFrame, \n",
    "    case_var: str, \n",
    "    event_var: str, \n",
    "    timestamp_var: str, \n",
    "    duration: str ='h'\n",
    ") -> pd.DataFrame:\n",
    "    \n",
    "    \"\"\"\n",
    "    Returns a dataframe with activity durations (i.e. 'arc' performance decorators).\n",
    "    By default duration is set to hours (h).\n",
    "    Use 's' for seconds, 'D' for days and 'W' for weeks.\n",
    "    \"\"\"\n",
    "    \n",
    "    data = dict()\n",
    "    groups = log_csv.groupby(case_var)\n",
    "    for group in groups:\n",
    "        arc = group[1].sort_values(timestamp_var)\\\n",
    "        .rename(columns = {event_var:'event_from', timestamp_var:'time_from'})\n",
    "        arc['event_to'] = arc['event_from'].shift(-1)\n",
    "        arc['time_to'] = arc['time_from'].shift(-1)\n",
    "        arc.dropna(inplace = True)\n",
    "        duration_var = f'duration ({duration})'\n",
    "        arc[duration_var] = (arc['time_to'] - arc['time_from']) / np.timedelta64(1, duration)\n",
    "        data[group[0]] = arc[[case_var, 'event_from', 'event_to', 'time_from', 'time_to', duration_var]]\n",
    "    return pd.concat(data.values()).set_index(case_var)"
   ]
  },
  {
   "cell_type": "code",
   "execution_count": 148,
   "id": "53810de9",
   "metadata": {},
   "outputs": [
    {
     "data": {
      "text/html": [
       "<div>\n",
       "<style scoped>\n",
       "    .dataframe tbody tr th:only-of-type {\n",
       "        vertical-align: middle;\n",
       "    }\n",
       "\n",
       "    .dataframe tbody tr th {\n",
       "        vertical-align: top;\n",
       "    }\n",
       "\n",
       "    .dataframe thead th {\n",
       "        text-align: right;\n",
       "    }\n",
       "</style>\n",
       "<table border=\"1\" class=\"dataframe\">\n",
       "  <thead>\n",
       "    <tr style=\"text-align: right;\">\n",
       "      <th></th>\n",
       "      <th>event_from</th>\n",
       "      <th>event_to</th>\n",
       "      <th>time_from</th>\n",
       "      <th>time_to</th>\n",
       "      <th>duration (h)</th>\n",
       "    </tr>\n",
       "    <tr>\n",
       "      <th>case_id</th>\n",
       "      <th></th>\n",
       "      <th></th>\n",
       "      <th></th>\n",
       "      <th></th>\n",
       "      <th></th>\n",
       "    </tr>\n",
       "  </thead>\n",
       "  <tbody>\n",
       "    <tr>\n",
       "      <th>220</th>\n",
       "      <td>phone_call</td>\n",
       "      <td>phone_call</td>\n",
       "      <td>2015-09-30 11:55:16.000</td>\n",
       "      <td>2015-09-30 12:06:27.000</td>\n",
       "      <td>0.186389</td>\n",
       "    </tr>\n",
       "    <tr>\n",
       "      <th>220</th>\n",
       "      <td>phone_call</td>\n",
       "      <td>phone_call</td>\n",
       "      <td>2015-09-30 12:06:27.000</td>\n",
       "      <td>2015-10-01 11:57:15.000</td>\n",
       "      <td>23.846667</td>\n",
       "    </tr>\n",
       "    <tr>\n",
       "      <th>220</th>\n",
       "      <td>phone_call</td>\n",
       "      <td>phone_call</td>\n",
       "      <td>2015-10-01 11:57:15.000</td>\n",
       "      <td>2015-10-15 15:15:31.000</td>\n",
       "      <td>339.304444</td>\n",
       "    </tr>\n",
       "    <tr>\n",
       "      <th>220</th>\n",
       "      <td>phone_call</td>\n",
       "      <td>phone_call</td>\n",
       "      <td>2015-10-15 15:15:31.000</td>\n",
       "      <td>2015-11-17 11:52:11.000</td>\n",
       "      <td>788.611111</td>\n",
       "    </tr>\n",
       "    <tr>\n",
       "      <th>220</th>\n",
       "      <td>phone_call</td>\n",
       "      <td>surfing_webpages</td>\n",
       "      <td>2015-11-17 11:52:11.000</td>\n",
       "      <td>2015-12-07 10:08:14.883</td>\n",
       "      <td>478.267745</td>\n",
       "    </tr>\n",
       "    <tr>\n",
       "      <th>...</th>\n",
       "      <td>...</td>\n",
       "      <td>...</td>\n",
       "      <td>...</td>\n",
       "      <td>...</td>\n",
       "      <td>...</td>\n",
       "    </tr>\n",
       "    <tr>\n",
       "      <th>2240448</th>\n",
       "      <td>surfing_webpages</td>\n",
       "      <td>surfing_webpages</td>\n",
       "      <td>2016-02-28 13:27:17.477</td>\n",
       "      <td>2016-02-28 13:27:33.703</td>\n",
       "      <td>0.004507</td>\n",
       "    </tr>\n",
       "    <tr>\n",
       "      <th>2240448</th>\n",
       "      <td>surfing_webpages</td>\n",
       "      <td>surfing_webpages</td>\n",
       "      <td>2016-02-28 13:27:33.703</td>\n",
       "      <td>2016-02-28 13:27:53.247</td>\n",
       "      <td>0.005429</td>\n",
       "    </tr>\n",
       "    <tr>\n",
       "      <th>2240448</th>\n",
       "      <td>surfing_webpages</td>\n",
       "      <td>surfing_webpages</td>\n",
       "      <td>2016-02-28 13:27:53.247</td>\n",
       "      <td>2016-02-28 13:27:59.707</td>\n",
       "      <td>0.001794</td>\n",
       "    </tr>\n",
       "    <tr>\n",
       "      <th>2240448</th>\n",
       "      <td>surfing_webpages</td>\n",
       "      <td>surfing_webpages</td>\n",
       "      <td>2016-02-28 13:27:59.707</td>\n",
       "      <td>2016-02-28 13:28:21.290</td>\n",
       "      <td>0.005995</td>\n",
       "    </tr>\n",
       "    <tr>\n",
       "      <th>2240448</th>\n",
       "      <td>surfing_webpages</td>\n",
       "      <td>surfing_webpages</td>\n",
       "      <td>2016-02-28 13:28:21.290</td>\n",
       "      <td>2016-02-28 13:29:17.917</td>\n",
       "      <td>0.015730</td>\n",
       "    </tr>\n",
       "  </tbody>\n",
       "</table>\n",
       "<p>7337272 rows × 5 columns</p>\n",
       "</div>"
      ],
      "text/plain": [
       "               event_from          event_to               time_from  \\\n",
       "case_id                                                               \n",
       "220            phone_call        phone_call 2015-09-30 11:55:16.000   \n",
       "220            phone_call        phone_call 2015-09-30 12:06:27.000   \n",
       "220            phone_call        phone_call 2015-10-01 11:57:15.000   \n",
       "220            phone_call        phone_call 2015-10-15 15:15:31.000   \n",
       "220            phone_call  surfing_webpages 2015-11-17 11:52:11.000   \n",
       "...                   ...               ...                     ...   \n",
       "2240448  surfing_webpages  surfing_webpages 2016-02-28 13:27:17.477   \n",
       "2240448  surfing_webpages  surfing_webpages 2016-02-28 13:27:33.703   \n",
       "2240448  surfing_webpages  surfing_webpages 2016-02-28 13:27:53.247   \n",
       "2240448  surfing_webpages  surfing_webpages 2016-02-28 13:27:59.707   \n",
       "2240448  surfing_webpages  surfing_webpages 2016-02-28 13:28:21.290   \n",
       "\n",
       "                        time_to  duration (h)  \n",
       "case_id                                        \n",
       "220     2015-09-30 12:06:27.000      0.186389  \n",
       "220     2015-10-01 11:57:15.000     23.846667  \n",
       "220     2015-10-15 15:15:31.000    339.304444  \n",
       "220     2015-11-17 11:52:11.000    788.611111  \n",
       "220     2015-12-07 10:08:14.883    478.267745  \n",
       "...                         ...           ...  \n",
       "2240448 2016-02-28 13:27:33.703      0.004507  \n",
       "2240448 2016-02-28 13:27:53.247      0.005429  \n",
       "2240448 2016-02-28 13:27:59.707      0.001794  \n",
       "2240448 2016-02-28 13:28:21.290      0.005995  \n",
       "2240448 2016-02-28 13:29:17.917      0.015730  \n",
       "\n",
       "[7337272 rows x 5 columns]"
      ]
     },
     "execution_count": 148,
     "metadata": {},
     "output_type": "execute_result"
    }
   ],
   "source": [
    "log_csv_Durations = activity_duration(log_csv, 'case_id', 'activity', 'timestamp') \n",
    "log_csv_Durations"
   ]
  },
  {
   "cell_type": "code",
   "execution_count": 147,
   "id": "2322a744",
   "metadata": {},
   "outputs": [
    {
     "data": {
      "image/png": "[encoded data removed]",
      "text/plain": [
       "<Figure size 432x288 with 1 Axes>"
      ]
     },
     "metadata": {
      "needs_background": "light"
     },
     "output_type": "display_data"
    }
   ],
   "source": [
    "# Boxplot activity duration\n",
    "\n",
    "log_csv_Durations\\\n",
    ".loc[:, ['event_from', 'event_to', 'duration (h)']]\\\n",
    ".reset_index()\\\n",
    ".pivot(columns='event_from', values='duration (h)')\\\n",
    ".plot(kind='box', vert=False, title='Activity duration in hours')\n",
    "plt.show()"
   ]
  },
  {
   "cell_type": "code",
   "execution_count": 175,
   "id": "c0a2d07c",
   "metadata": {},
   "outputs": [],
   "source": [
    "log_csv_sample = log_csv.sample(frac=.0001)"
   ]
  },
  {
   "cell_type": "code",
   "execution_count": 176,
   "id": "b2a957cd",
   "metadata": {},
   "outputs": [
    {
     "data": {
      "image/png": "[encoded data removed]",
      "text/plain": [
       "<Figure size 1152x576 with 1 Axes>"
      ]
     },
     "metadata": {},
     "output_type": "display_data"
    }
   ],
   "source": [
    "# Visualize eventlog ##########################################################\n",
    "\n",
    "# Settings\n",
    "activity = {\n",
    "    'complaint': ('>', 'green'), \n",
    "    'workflow_message': ('o', 'gold'), \n",
    "    'phone_call': ('v', 'orange'), \n",
    "    'surfing_webpages': ('^', 'orange'), \n",
    "}\n",
    "\n",
    "# Figure\n",
    "fig, ax = plt.subplots(figsize=(16, 8))\n",
    "\n",
    "# Timelines\n",
    "for timeline in log_csv_sample.groupby('case_id').agg(time_start = ('timestamp', min), \n",
    "                                               time_end = ('timestamp', max)\n",
    "                                              ).reset_index().itertuples(index=False):\n",
    "    plt.hlines(timeline.case_id, timeline.time_start, timeline.time_end, \n",
    "               colors = 'grey', linestyles = 'dashed')\n",
    "\n",
    "# Activities\n",
    "for act in activity.keys():\n",
    "    ax.scatter(log_csv_sample.loc[log_csv_sample.activity == act, 'timestamp'], \n",
    "               log_csv_sample.loc[log_csv_sample.activity == act, 'case_id'],\n",
    "               marker = activity[act][0],\n",
    "               color = activity[act][1], \n",
    "               s = 150, \n",
    "               alpha = .7,\n",
    "               label = act,\n",
    "               edgecolors = 'black',\n",
    "              )\n",
    "    \n",
    "ax.set_title('Activity timeline per trace', fontsize=16)\n",
    "ax.set_xlabel('time')\n",
    "ax.set_ylabel('case_id (i.e. trace)')\n",
    "ax.legend()\n",
    "ax.grid(True)"
   ]
  },
  {
   "cell_type": "code",
   "execution_count": 165,
   "id": "aca09ae7",
   "metadata": {},
   "outputs": [],
   "source": [
    "def dfg_frequency_matrix(\n",
    "    event_log: pd.DataFrame, \n",
    "    case_var: str, \n",
    "    event_var: str, \n",
    "    timestamp_var: str\n",
    ") -> pd.DataFrame:\n",
    "    \n",
    "    \"\"\"\n",
    "    Return a directly-follows graph frequency matrix based on the traces in the event log.\n",
    "    Row events (i.e. the index) are events 'from' and column events are the events 'to'.\n",
    "    \"\"\"\n",
    "    \n",
    "    # event log\n",
    "    log = event_log[[case_var, event_var, timestamp_var]]\n",
    "    \n",
    "    # initiate matrix\n",
    "    events = log[event_var].unique()\n",
    "    matrix = pd.DataFrame(columns=events, index=events).fillna(0)\n",
    "    \n",
    "    # groupby case_var\n",
    "    groups = log.groupby(case_var)\n",
    "    \n",
    "    # loop through case groups\n",
    "    for group in groups:\n",
    "        event = group[1].sort_values(timestamp_var)\\\n",
    "        .drop([case_var, timestamp_var], axis = 1)\\\n",
    "        .rename(columns = {event_var:'event_from'})\n",
    "        event['event_to'] = event['event_from'].shift(-1)\n",
    "        event.dropna(inplace = True)\n",
    "        \n",
    "        # loop through traces\n",
    "        for trace in event.itertuples(index = False):\n",
    "            matrix.at[trace.event_from, trace.event_to] += 1\n",
    "                \n",
    "    return matrix.replace(0, np.nan)"
   ]
  },
  {
   "cell_type": "code",
   "execution_count": 168,
   "id": "f7e8673b",
   "metadata": {},
   "outputs": [
    {
     "data": {
      "image/png": "[encoded data removed]",
      "text/plain": [
       "<Figure size 576x432 with 2 Axes>"
      ]
     },
     "metadata": {},
     "output_type": "display_data"
    }
   ],
   "source": [
    "# Directly-Follows Graph frequency heatmap\n",
    "dfg_freq_matrix = dfg_frequency_matrix(log_csv, 'case_id', 'activity', 'timestamp')\n",
    "sns.set(rc={'figure.figsize':(8, 6)})\n",
    "sns.heatmap(dfg_freq_matrix, annot=True, fmt='.0f', cmap='Reds', square=True)\n",
    "plt.show()"
   ]
  },
  {
   "cell_type": "code",
   "execution_count": 169,
   "id": "9233cb6b",
   "metadata": {},
   "outputs": [],
   "source": [
    "def dfg_performance_matrix(\n",
    "    event_log: pd.DataFrame, \n",
    "    case_var: str, \n",
    "    event_var: str, \n",
    "    timestamp_var: str, \n",
    "    duration: str ='h'\n",
    ") -> pd.DataFrame:\n",
    "    \n",
    "    \"\"\"\n",
    "    Return a directly-follows graph duration matrix based on the traces in the event log.\n",
    "    Row events (i.e. the index) are events 'from' and column events are the events 'to'.\n",
    "    By default duration is set to hours (h). Use 's' for seconds, 'D' for days and 'W' for weeks.\n",
    "    \"\"\"\n",
    "    \n",
    "    # event log\n",
    "    log = event_log[[case_var, event_var, timestamp_var]]\n",
    "    \n",
    "    # initiate matrix\n",
    "    events = log[event_var].unique()\n",
    "    matrix = pd.DataFrame(columns=events, index=events)\n",
    "    \n",
    "    # groupby case_var\n",
    "    groups = log.groupby(case_var)\n",
    "    \n",
    "    # loop through case groups\n",
    "    for group in groups:\n",
    "        event = group[1].sort_values(timestamp_var)\\\n",
    "        .rename(columns = {event_var:'event_from', timestamp_var:'time_begin'})\n",
    "        event['event_to'] = event['event_from'].shift(-1)\n",
    "        event['time_end'] = event['time_begin'].shift(-1)\n",
    "        event['duration'] = (event['time_end'] - event['time_begin']) / np.timedelta64(1, duration)\n",
    "        event.dropna(inplace = True)\n",
    "        \n",
    "        # loop through traces\n",
    "        for row in event.itertuples(index = False):\n",
    "            matrix.at[row.event_from, row.event_to] = \\\n",
    "            np.nansum([matrix.at[row.event_from, row.event_to], row.duration])\n",
    "    \n",
    "    return matrix.astype(float)"
   ]
  },
  {
   "cell_type": "code",
   "execution_count": 170,
   "id": "b95a6af5",
   "metadata": {},
   "outputs": [
    {
     "data": {
      "image/png": "[encoded data removed]",
      "text/plain": [
       "<Figure size 576x432 with 2 Axes>"
      ]
     },
     "metadata": {},
     "output_type": "display_data"
    }
   ],
   "source": [
    "# Directly-Follows Graph total duration heapmap (in hours)\n",
    "dfg_perf_matrix = dfg_performance_matrix(log_csv, 'case_id', 'activity', 'timestamp', duration='h')\n",
    "sns.set(rc={'figure.figsize':(8, 6)})\n",
    "sns.heatmap(dfg_perf_matrix, annot=True, fmt='.0f', cmap='BuPu', square=True)\n",
    "plt.show()"
   ]
  },
  {
   "cell_type": "code",
   "execution_count": 177,
   "id": "36f691de",
   "metadata": {},
   "outputs": [],
   "source": [
    "def dfg_frequency_table(dfg_frequency_matrix: pd.DataFrame) -> pd.DataFrame:\n",
    "    \n",
    "    \"\"\"\n",
    "    Returns an directly-follows graph frequency table\n",
    "    \"\"\"\n",
    "    \n",
    "    arcs = list()\n",
    "    \n",
    "    for row in dfg_frequency_matrix.index:\n",
    "        for col in dfg_frequency_matrix.columns:\n",
    "            if not np.isnan(dfg_frequency_matrix.at[row, col]):\n",
    "                arcs.append((row, col, dfg_frequency_matrix.at[row, col]))\n",
    "    \n",
    "    arc_freq = pd.DataFrame(arcs, columns = ['event_from', 'event_to', 'frequency'])\\\n",
    "    .set_index(['event_from', 'event_to'])\n",
    "    \n",
    "    return arc_freq"
   ]
  },
  {
   "cell_type": "code",
   "execution_count": 178,
   "id": "536140ed",
   "metadata": {},
   "outputs": [
    {
     "data": {
      "text/html": [
       "<div>\n",
       "<style scoped>\n",
       "    .dataframe tbody tr th:only-of-type {\n",
       "        vertical-align: middle;\n",
       "    }\n",
       "\n",
       "    .dataframe tbody tr th {\n",
       "        vertical-align: top;\n",
       "    }\n",
       "\n",
       "    .dataframe thead th {\n",
       "        text-align: right;\n",
       "    }\n",
       "</style>\n",
       "<table border=\"1\" class=\"dataframe\">\n",
       "  <thead>\n",
       "    <tr style=\"text-align: right;\">\n",
       "      <th></th>\n",
       "      <th>event_from</th>\n",
       "      <th>event_to</th>\n",
       "      <th>frequency</th>\n",
       "      <th>average_duration</th>\n",
       "      <th>total_duration</th>\n",
       "    </tr>\n",
       "  </thead>\n",
       "  <tbody>\n",
       "    <tr>\n",
       "      <th>0</th>\n",
       "      <td>surfing_webpages</td>\n",
       "      <td>surfing_webpages</td>\n",
       "      <td>7034901</td>\n",
       "      <td>8.43</td>\n",
       "      <td>59304215.43</td>\n",
       "    </tr>\n",
       "    <tr>\n",
       "      <th>8</th>\n",
       "      <td>phone_call</td>\n",
       "      <td>surfing_webpages</td>\n",
       "      <td>59199</td>\n",
       "      <td>148.49</td>\n",
       "      <td>8790459.51</td>\n",
       "    </tr>\n",
       "    <tr>\n",
       "      <th>2</th>\n",
       "      <td>surfing_webpages</td>\n",
       "      <td>phone_call</td>\n",
       "      <td>55684</td>\n",
       "      <td>119.10</td>\n",
       "      <td>6631964.40</td>\n",
       "    </tr>\n",
       "    <tr>\n",
       "      <th>10</th>\n",
       "      <td>phone_call</td>\n",
       "      <td>phone_call</td>\n",
       "      <td>58753</td>\n",
       "      <td>97.04</td>\n",
       "      <td>5701391.12</td>\n",
       "    </tr>\n",
       "    <tr>\n",
       "      <th>4</th>\n",
       "      <td>workflow_message</td>\n",
       "      <td>surfing_webpages</td>\n",
       "      <td>60048</td>\n",
       "      <td>41.58</td>\n",
       "      <td>2496795.84</td>\n",
       "    </tr>\n",
       "    <tr>\n",
       "      <th>6</th>\n",
       "      <td>workflow_message</td>\n",
       "      <td>phone_call</td>\n",
       "      <td>2243</td>\n",
       "      <td>180.28</td>\n",
       "      <td>404368.04</td>\n",
       "    </tr>\n",
       "    <tr>\n",
       "      <th>1</th>\n",
       "      <td>surfing_webpages</td>\n",
       "      <td>workflow_message</td>\n",
       "      <td>63057</td>\n",
       "      <td>1.24</td>\n",
       "      <td>78190.68</td>\n",
       "    </tr>\n",
       "    <tr>\n",
       "      <th>3</th>\n",
       "      <td>surfing_webpages</td>\n",
       "      <td>complaint</td>\n",
       "      <td>147</td>\n",
       "      <td>142.64</td>\n",
       "      <td>20968.08</td>\n",
       "    </tr>\n",
       "    <tr>\n",
       "      <th>12</th>\n",
       "      <td>complaint</td>\n",
       "      <td>surfing_webpages</td>\n",
       "      <td>142</td>\n",
       "      <td>141.45</td>\n",
       "      <td>20085.90</td>\n",
       "    </tr>\n",
       "    <tr>\n",
       "      <th>11</th>\n",
       "      <td>phone_call</td>\n",
       "      <td>complaint</td>\n",
       "      <td>88</td>\n",
       "      <td>207.11</td>\n",
       "      <td>18225.68</td>\n",
       "    </tr>\n",
       "    <tr>\n",
       "      <th>9</th>\n",
       "      <td>phone_call</td>\n",
       "      <td>workflow_message</td>\n",
       "      <td>353</td>\n",
       "      <td>35.10</td>\n",
       "      <td>12390.30</td>\n",
       "    </tr>\n",
       "    <tr>\n",
       "      <th>5</th>\n",
       "      <td>workflow_message</td>\n",
       "      <td>workflow_message</td>\n",
       "      <td>2512</td>\n",
       "      <td>4.76</td>\n",
       "      <td>11957.12</td>\n",
       "    </tr>\n",
       "    <tr>\n",
       "      <th>13</th>\n",
       "      <td>complaint</td>\n",
       "      <td>phone_call</td>\n",
       "      <td>99</td>\n",
       "      <td>69.91</td>\n",
       "      <td>6921.09</td>\n",
       "    </tr>\n",
       "    <tr>\n",
       "      <th>7</th>\n",
       "      <td>workflow_message</td>\n",
       "      <td>complaint</td>\n",
       "      <td>11</td>\n",
       "      <td>207.54</td>\n",
       "      <td>2282.94</td>\n",
       "    </tr>\n",
       "    <tr>\n",
       "      <th>14</th>\n",
       "      <td>complaint</td>\n",
       "      <td>complaint</td>\n",
       "      <td>35</td>\n",
       "      <td>3.43</td>\n",
       "      <td>120.05</td>\n",
       "    </tr>\n",
       "  </tbody>\n",
       "</table>\n",
       "</div>"
      ],
      "text/plain": [
       "          event_from          event_to  frequency  average_duration  \\\n",
       "0   surfing_webpages  surfing_webpages    7034901              8.43   \n",
       "8         phone_call  surfing_webpages      59199            148.49   \n",
       "2   surfing_webpages        phone_call      55684            119.10   \n",
       "10        phone_call        phone_call      58753             97.04   \n",
       "4   workflow_message  surfing_webpages      60048             41.58   \n",
       "6   workflow_message        phone_call       2243            180.28   \n",
       "1   surfing_webpages  workflow_message      63057              1.24   \n",
       "3   surfing_webpages         complaint        147            142.64   \n",
       "12         complaint  surfing_webpages        142            141.45   \n",
       "11        phone_call         complaint         88            207.11   \n",
       "9         phone_call  workflow_message        353             35.10   \n",
       "5   workflow_message  workflow_message       2512              4.76   \n",
       "13         complaint        phone_call         99             69.91   \n",
       "7   workflow_message         complaint         11            207.54   \n",
       "14         complaint         complaint         35              3.43   \n",
       "\n",
       "    total_duration  \n",
       "0      59304215.43  \n",
       "8       8790459.51  \n",
       "2       6631964.40  \n",
       "10      5701391.12  \n",
       "4       2496795.84  \n",
       "6        404368.04  \n",
       "1         78190.68  \n",
       "3         20968.08  \n",
       "12        20085.90  \n",
       "11        18225.68  \n",
       "9         12390.30  \n",
       "5         11957.12  \n",
       "13         6921.09  \n",
       "7          2282.94  \n",
       "14          120.05  "
      ]
     },
     "execution_count": 178,
     "metadata": {},
     "output_type": "execute_result"
    }
   ],
   "source": [
    "# Directly-Follows Graph frequency and performance (in hours) table\n",
    "df = pd.merge(\n",
    "    dfg_frequency_table(\n",
    "        dfg_frequency_matrix(log_csv, 'case_id', 'activity', 'timestamp'))\\\n",
    "    .reset_index(),\n",
    "    activity_duration(log_csv, 'case_id', 'activity', 'timestamp')\\\n",
    "    .loc[:, ['event_from', 'event_to', 'duration (h)']]\\\n",
    "    .groupby(by = ['event_from', 'event_to']).mean('duration (h)')\\\n",
    "    .reset_index(),\n",
    "\n",
    "    left_on = ['event_from', 'event_to'],\n",
    "    right_on = ['event_from', 'event_to']\n",
    ").rename(columns = {'duration (h)':'average_duration'})\n",
    "\n",
    "df['average_duration'] = df['average_duration'].apply(lambda x: np.round(x, decimals=2))\n",
    "df['frequency'] = df['frequency'].astype(int)\n",
    "df['total_duration'] = df['frequency'] * df['average_duration']\n",
    "\n",
    "df.sort_values(['total_duration', 'average_duration', 'frequency'], ascending=False)"
   ]
  }
 ],
 "metadata": {
  "kernelspec": {
   "display_name": "Python 3 (ipykernel)",
   "language": "python",
   "name": "python3"
  },
  "language_info": {
   "codemirror_mode": {
    "name": "ipython",
    "version": 3
   },
   "file_extension": ".py",
   "mimetype": "text/x-python",
   "name": "python",
   "nbconvert_exporter": "python",
   "pygments_lexer": "ipython3",
   "version": "3.8.8"
  }
 },
 "nbformat": 4,
 "nbformat_minor": 5
}
